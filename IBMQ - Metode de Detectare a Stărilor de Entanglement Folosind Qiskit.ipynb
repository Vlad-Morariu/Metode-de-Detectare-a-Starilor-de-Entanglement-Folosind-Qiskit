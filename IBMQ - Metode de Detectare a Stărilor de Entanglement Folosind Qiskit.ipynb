{
 "cells": [
  {
   "cell_type": "code",
   "execution_count": 137,
   "id": "5fd8e5f5-d6db-448c-870a-b7e70bb5d937",
   "metadata": {
    "tags": []
   },
   "outputs": [],
   "source": [
    "# Importing standard Qiskit libraries\n",
    "# Am adaugat aici si bibliotecile de care e nevoie sa ruleze toate functiile\n",
    "from qiskit import QuantumRegister, ClassicalRegister, QuantumCircuit, transpile, Aer,execute\n",
    "from qiskit.tools.jupyter import *\n",
    "from qiskit.visualization import *\n",
    "from ibm_quantum_widgets import *\n",
    "from qiskit_aer.noise import (NoiseModel, QuantumError, ReadoutError,pauli_error, depolarizing_error, thermal_relaxation_error)\n",
    "from qiskit.quantum_info import DensityMatrix, partial_trace\n",
    "import numpy as np\n",
    "import random\n",
    "from scipy.linalg import eig\n",
    "import math \n",
    "from numpy import pi\n",
    "from itertools import combinations\n",
    "import time\n",
    "import itertools\n",
    "# qiskit-ibmq-provider has been deprecated.\n",
    "# Please see the Migration Guides in https://ibm.biz/provider_migration_guide for more detail.\n",
    "from qiskit_ibm_runtime import QiskitRuntimeService, Sampler, Estimator, Session, Options\n",
    "\n",
    "# Loading your IBM Quantum account(s)\n",
    "service = QiskitRuntimeService(channel=\"ibm_quantum\")\n",
    "\n",
    "# Invoke a primitive. For more details see https://qiskit.org/documentation/partners/qiskit_ibm_runtime/tutorials.html\n",
    "# result = Sampler(\"ibmq_qasm_simulator\").run(circuits).result()"
   ]
  },
  {
   "cell_type": "code",
   "execution_count": null,
   "id": "8137ff30-ec02-4991-be3a-eb15bce990b4",
   "metadata": {},
   "outputs": [],
   "source": [
    "'''\n",
    "Bell\n",
    "'''"
   ]
  },
  {
   "cell_type": "code",
   "execution_count": 138,
   "id": "71d827fc-88da-4046-a49c-8ffd467f38c1",
   "metadata": {
    "tags": []
   },
   "outputs": [
    {
     "data": {
      "application/vnd.jupyter.widget-view+json": {
       "model_id": "6c6c358168aa49128ada58768fcbb377",
       "version_major": 2,
       "version_minor": 0
      },
      "text/plain": [
       "CircuitComposer(circuit=<qiskit.circuit.quantumcircuit.QuantumCircuit object at 0x7fc0bf433e20>)"
      ]
     },
     "execution_count": 138,
     "metadata": {},
     "output_type": "execute_result"
    }
   ],
   "source": [
    "#Stari Bell \n",
    "\n",
    "qreg_q = QuantumRegister(4, 'q')\n",
    "creg_c = ClassicalRegister(4, 'c')\n",
    "circuit = QuantumCircuit(qreg_q, creg_c)\n",
    "\n",
    "def bell_state_1(): \n",
    "    circuit.h(qreg_q[0])\n",
    "    circuit.cx(qreg_q[0], qreg_q[1])\n",
    "    \n",
    "def bell_state_2():\n",
    "    circuit.x(qreg_q[0])\n",
    "    circuit.h(qreg_q[0])\n",
    "    circuit.cx(qreg_q[0], qreg_q[1])\n",
    "    \n",
    "def bell_state_3():\n",
    "    circuit.h(qreg_q[0])\n",
    "    circuit.x(qreg_q[1])\n",
    "    circuit.cx(qreg_q[0], qreg_q[1])\n",
    "    \n",
    "def bell_state_4():\n",
    "    circuit.h(qreg_q[0])\n",
    "    circuit.x(qreg_q[1])\n",
    "    circuit.z(qreg_q[0])\n",
    "    circuit.z(qreg_q[1])\n",
    "    circuit.cx(qreg_q[0], qreg_q[1])\n",
    "    \n",
    "selected_bell_state=bell_state_1\n",
    "\n",
    "selected_bell_state()\n",
    "\n",
    "CircuitComposer(circuit=circuit)"
   ]
  },
  {
   "cell_type": "code",
   "execution_count": 139,
   "id": "80a32cfa-3819-4a09-ae00-4741388fee55",
   "metadata": {
    "tags": []
   },
   "outputs": [
    {
     "name": "stdout",
     "output_type": "stream",
     "text": [
      "Hidden variable predicts 32.03125%\n"
     ]
    }
   ],
   "source": [
    "#Calcul inegalitate Bell, CHSH pentru variabile ascunse\n",
    "coincidences = 0 \n",
    "nrRuns=1024\n",
    "for i in range(nrRuns):\n",
    "\n",
    "    hiddenA = random.choice([0, 1])\n",
    "    hiddenB = random.choice([0, 1])\n",
    "    hiddenC = random.choice([0, 1])\n",
    "\n",
    "    entangledParticle1 = [hiddenA, hiddenB, hiddenC]\n",
    "    entangledParticle2 = [1-hiddenA, 1-hiddenB, 1-hiddenC]\n",
    "    \n",
    "    firstDeviceSetting= random.choice([0,1,2])\n",
    "    secondDeviceSetting= random.choice([0,1,2])\n",
    "    if firstDeviceSetting!=secondDeviceSetting:\n",
    "        if entangledParticle1[firstDeviceSetting] == entangledParticle2[secondDeviceSetting]:\n",
    "            coincidences += 1\n",
    "\n",
    "print(\"Hidden variable predicts \"+ str(coincidences/nrRuns*100)+\"%\")"
   ]
  },
  {
   "cell_type": "code",
   "execution_count": 140,
   "id": "3958645d-41c5-4025-833a-e72762d1a84d",
   "metadata": {
    "tags": []
   },
   "outputs": [
    {
     "name": "stdout",
     "output_type": "stream",
     "text": [
      "Quantum simulation predicts: 25.966666666666665%\n"
     ]
    },
    {
     "data": {
      "image/png": "[encoded data removed]",
      "text/plain": [
       "<Figure size 700x500 with 1 Axes>"
      ]
     },
     "execution_count": 140,
     "metadata": {},
     "output_type": "execute_result"
    }
   ],
   "source": [
    "#Calcul inegalitate Bell, CHSH cu simulare cuantica\n",
    "#creare de functii pentru definirea circuitelor\n",
    "def circ_filtru1_0():\n",
    "    qreg_q = QuantumRegister(2, 'q')\n",
    "    creg_c = ClassicalRegister(2, 'c')\n",
    "    circuit = QuantumCircuit(qreg_q, creg_c)\n",
    "\n",
    "    circuit.h(qreg_q[0])\n",
    "    circuit.x(qreg_q[1])\n",
    "    circuit.cx(qreg_q[0], qreg_q[1])\n",
    "    circuit.rx(pi / 2, qreg_q[0])\n",
    "    circuit.barrier(qreg_q[1])\n",
    "    circuit.measure(qreg_q[1], creg_c[1])\n",
    "    circuit.measure(qreg_q[0], creg_c[0])\n",
    "    \n",
    "    return circuit\n",
    "\n",
    "\n",
    "def circ_filtru0_1():\n",
    "    qreg_q = QuantumRegister(2, 'q')\n",
    "    creg_c = ClassicalRegister(2, 'c')\n",
    "    circuit = QuantumCircuit(qreg_q, creg_c)\n",
    "\n",
    "    circuit.h(qreg_q[0])\n",
    "    circuit.x(qreg_q[1])\n",
    "    circuit.cx(qreg_q[0], qreg_q[1])\n",
    "    \n",
    "    circuit.rx(pi / 2, qreg_q[1])\n",
    "    circuit.barrier(qreg_q[1])\n",
    "    circuit.measure(qreg_q[1], creg_c[1])\n",
    "    circuit.measure(qreg_q[0], creg_c[0])\n",
    "    \n",
    "    return circuit\n",
    "\n",
    "\n",
    "\n",
    "def circ_filtru2_0():\n",
    "    qreg_q = QuantumRegister(2, 'q')\n",
    "    creg_c = ClassicalRegister(2, 'c')\n",
    "    circuit = QuantumCircuit(qreg_q, creg_c)\n",
    "\n",
    "    circuit.h(qreg_q[0])\n",
    "    circuit.x(qreg_q[1])\n",
    "    circuit.cx(qreg_q[0], qreg_q[1])\n",
    "    circuit.rx(-pi / 4, qreg_q[0])\n",
    "\n",
    "    circuit.measure(qreg_q[1], creg_c[1])\n",
    "    circuit.measure(qreg_q[0], creg_c[0])\n",
    "\n",
    "    return circuit\n",
    "\n",
    "def circ_filtru0_2():\n",
    "    qreg_q = QuantumRegister(2, 'q')\n",
    "    creg_c = ClassicalRegister(2, 'c')\n",
    "    circuit = QuantumCircuit(qreg_q, creg_c)\n",
    "\n",
    "    circuit.h(qreg_q[0])\n",
    "    circuit.x(qreg_q[1])\n",
    "    circuit.cx(qreg_q[0], qreg_q[1])\n",
    "    \n",
    "    circuit.rx(-pi / 4, qreg_q[1])\n",
    "    circuit.barrier(qreg_q[1])\n",
    "    circuit.measure(qreg_q[1], creg_c[1])\n",
    "    circuit.measure(qreg_q[0], creg_c[0])\n",
    "    \n",
    "    return circuit\n",
    "\n",
    "\n",
    "def circ_filtru2_1():\n",
    "    qreg_q = QuantumRegister(2, 'q')\n",
    "    creg_c = ClassicalRegister(2, 'c')\n",
    "    circuit = QuantumCircuit(qreg_q, creg_c)\n",
    "\n",
    "    circuit.h(qreg_q[0])\n",
    "    circuit.x(qreg_q[1])\n",
    "    circuit.cx(qreg_q[0], qreg_q[1])\n",
    "    circuit.rx(-pi / 4, qreg_q[0])\n",
    "    circuit.rx(pi / 2, qreg_q[1])\n",
    "    circuit.barrier(qreg_q[1])\n",
    "    circuit.measure(qreg_q[1], creg_c[1])\n",
    "    circuit.measure(qreg_q[0], creg_c[0])\n",
    "    \n",
    "    return circuit\n",
    "\n",
    "\n",
    "def circ_filtru1_2():\n",
    "    qreg_q = QuantumRegister(2, 'q')\n",
    "    creg_c = ClassicalRegister(2, 'c')\n",
    "    circuit = QuantumCircuit(qreg_q, creg_c)\n",
    "\n",
    "    circuit.h(qreg_q[0])\n",
    "    circuit.x(qreg_q[1])\n",
    "    circuit.cx(qreg_q[0], qreg_q[1])\n",
    "    circuit.rx(pi / 2, qreg_q[0])\n",
    "    circuit.rx(-pi / 4, qreg_q[1])\n",
    "    circuit.barrier(qreg_q[1])\n",
    "    circuit.measure(qreg_q[1], creg_c[1])\n",
    "    circuit.measure(qreg_q[0], creg_c[0])\n",
    "    \n",
    "    return circuit\n",
    "\n",
    "\n",
    "shots=500\n",
    "global_counts = {} #un counter global pentru starile pe care le vom #observa pe parcursul simularii celor n circuite\n",
    "simulator = Aer.get_backend('qasm_simulator')\n",
    "#Suntem interesati doar de rezultate cand filtrele difera\n",
    "circuits = [circ_filtru1_0(), circ_filtru2_0(), circ_filtru2_1(),circ_filtru1_2(),circ_filtru0_1(),circ_filtru0_2()]\n",
    "\n",
    "\n",
    "for circuit in circuits:\n",
    "\n",
    "    job = execute(circuit, simulator, shots=shots)\n",
    "    result = job.result()\n",
    "    counts = result.get_counts(circuit)\n",
    "    #primul rezultat gasit de un tip trebuie adaugat pe acea pozitie\n",
    "    for outcome, count in counts.items():\n",
    "        if outcome in global_counts:\n",
    "            global_counts[outcome] += count\n",
    "        else:\n",
    "            global_counts[outcome] = count \n",
    "\n",
    "prob_same = (global_counts['00'] + global_counts['11']) / (shots * len(circuits))\n",
    "prob_different = (global_counts['01'] + global_counts['10']) / (shots * len(circuits))\n",
    "print(\"Quantum simulation predicts: \"+ str(prob_same*100)+\"%\")\n",
    "\n",
    "plot_histogram(global_counts)   "
   ]
  },
  {
   "cell_type": "code",
   "execution_count": 486,
   "id": "a05ecc40-007b-4ee1-bfa8-dd9589efff75",
   "metadata": {
    "tags": []
   },
   "outputs": [
    {
     "data": {
      "text/plain": [
       "'\\nMetode de verificare Entanglement\\n'"
      ]
     },
     "execution_count": 486,
     "metadata": {},
     "output_type": "execute_result"
    }
   ],
   "source": [
    "'''\n",
    "Metode de verificare Entanglement\n",
    "'''"
   ]
  },
  {
   "cell_type": "code",
   "execution_count": 141,
   "id": "fc4c2dbf-ff55-425d-942b-8b938f1f70cc",
   "metadata": {
    "tags": []
   },
   "outputs": [
    {
     "name": "stdout",
     "output_type": "stream",
     "text": [
      "Matrice de densitate originala:\n",
      "DensityMatrix([[0.5+0.j, 0. +0.j, 0. +0.j, 0.5+0.j],\n",
      "               [0. +0.j, 0. +0.j, 0. +0.j, 0. +0.j],\n",
      "               [0. +0.j, 0. +0.j, 0. +0.j, 0. +0.j],\n",
      "               [0.5+0.j, 0. +0.j, 0. +0.j, 0.5+0.j]],\n",
      "              dims=(2, 2))\n"
     ]
    },
    {
     "data": {
      "text/plain": [
       "'\\nprint(\"Separabilitate cu criteriul PPT:\")\\nprint(ppt_is_separable(rho))\\nprint(\"Separabilitate cu criteriul Reducerii:\")\\nprint(reduction_is_separable(rho))\\nprint(\"Separabilitate cu criteriul Realignmentului:\")\\nprint(realignment_is_separable(rho))\\n'"
      ]
     },
     "execution_count": 141,
     "metadata": {},
     "output_type": "execute_result"
    }
   ],
   "source": [
    "#definirea matricii de densitate prin circuit\n",
    "\n",
    "qreg_q = QuantumRegister(2, 'q') #2 pt 2 qubiti, 4 pentru 4\n",
    "creg_c = ClassicalRegister(1, 'c')\n",
    "circuit = QuantumCircuit(qreg_q, creg_c)\n",
    "\n",
    "\n",
    "#circuit.h(qreg_q[0])\n",
    "#circuit.h(qreg_q[1])\n",
    "\n",
    "circuit.h(qreg_q[0])\n",
    "circuit.cx(qreg_q[0], qreg_q[1])\n",
    "#circuit.cx(qreg_q[0], qreg_q[2])\n",
    "\n",
    "#pentru 2 perechi de qubiti care nu sunt in entanglement una cu cealalta\n",
    "#circuit.h(qreg_q[0]) \n",
    "#circuit.cx(qreg_q[0], qreg_q[1])\n",
    "\n",
    "#circuit.h(qreg_q[2])\n",
    "#circuit.cx(qreg_q[2], qreg_q[3])\n",
    "#pentru 4 qubiti in entanglement\n",
    "#circuit.h(qreg_q[0])\n",
    "#circuit.cx(qreg_q[0], qreg_q[1])\n",
    "#circuit.cx(qreg_q[1], qreg_q[2])\n",
    "#circuit.cx(qreg_q[2], qreg_q[3])\n",
    "\n",
    "circuit.save_statevector()\n",
    "\n",
    "simulator = Aer.get_backend('aer_simulator_statevector')\n",
    "result = simulator.run(transpile(circuit, simulator)).result()\n",
    "psi = result.get_statevector(circuit)\n",
    "\n",
    "\n",
    "rho = DensityMatrix(psi)\n",
    "print(\"Matrice de densitate originala:\")\n",
    "display(rho)\n",
    "\n",
    "'''\n",
    "print(\"Separabilitate cu criteriul PPT:\")\n",
    "print(ppt_is_separable(rho))\n",
    "print(\"Separabilitate cu criteriul Reducerii:\")\n",
    "print(reduction_is_separable(rho))\n",
    "print(\"Separabilitate cu criteriul Realignmentului:\")\n",
    "print(realignment_is_separable(rho))\n",
    "'''\n"
   ]
  },
  {
   "cell_type": "code",
   "execution_count": 142,
   "id": "7c1510ed-03b6-47f3-9007-b19951a053c0",
   "metadata": {
    "tags": []
   },
   "outputs": [
    {
     "data": {
      "text/plain": [
       "False"
      ]
     },
     "execution_count": 142,
     "metadata": {},
     "output_type": "execute_result"
    }
   ],
   "source": [
    "#criteriul de verificare a separabilitatii Peres–Horodecki\n",
    "\n",
    "def ppt_is_separable(matrix):\n",
    "    \n",
    "    separable_state=False\n",
    "    #extragem numarul de qubiti din matrice de dimensiune 2^n x 2^n\n",
    "    num_qubits = int(np.log2(matrix.dim))\n",
    "\n",
    "\n",
    "    #iteram pentru a verifica entanglementul in functie de fiecare combinatie de qubiti\n",
    "    for qubit_test in range(1,num_qubits):\n",
    "        #ultimul qubit va fi verificat prin transpusa\n",
    "        for range_test in combinations(range(num_qubits-1), qubit_test):\n",
    "            #transpunerea matricii de densitate\n",
    "            matrix_partial_transposed = matrix.partial_transpose(list(range_test))  \n",
    "            \n",
    "            #print(\"Transpusa matricii:\")\n",
    "            #display(matrix_partial_transposed.data)\n",
    "\n",
    "            #calculul valorilor proprii ale matricii\n",
    "            eigenvalues = np.linalg.eigvals(matrix_partial_transposed)\n",
    "\n",
    "            #Pentru a corecta erorile de rotunjire provenite de la \n",
    "            #numere complexe, aproximam valorile proprii\n",
    "            #cand apar diferente foarte mici in jurul edgecase-ului 0\n",
    "            tolerance=1e-15\n",
    "            eigenvalues[np.abs(eigenvalues) < tolerance] = 0\n",
    "\n",
    "            #print(\"valori proprii:\") \n",
    "            #print(eigenvalues)\n",
    "\n",
    "            separable_state=separable_state or all(eigenvalues >= 0)\n",
    "\n",
    "\n",
    "\n",
    "    return separable_state   \n",
    "\n",
    "ppt_is_separable(rho)        \n"
   ]
  },
  {
   "cell_type": "code",
   "execution_count": 143,
   "id": "3fe303d3-e784-49c0-b834-4d64ba2272c9",
   "metadata": {
    "tags": []
   },
   "outputs": [
    {
     "data": {
      "text/plain": [
       "array([[11, 21, 12, 22],\n",
       "       [31, 41, 32, 42],\n",
       "       [13, 23, 14, 24],\n",
       "       [33, 43, 34, 44]])"
      ]
     },
     "metadata": {},
     "output_type": "display_data"
    }
   ],
   "source": [
    "#Exemplu de matrix realignment pe cazul matricii 4x4\n",
    "\n",
    "def realign_density_matrix(matrix):\n",
    "    \n",
    "    #pentru a putea lucra in np facem cast pe DensityMatrix\n",
    "    if isinstance(matrix,DensityMatrix):\n",
    "        matrix=matrix.data.reshape(matrix.dim,matrix.dim)\n",
    "    \n",
    "    rows, cols = matrix.shape\n",
    "\n",
    "    half_rows = rows // 2\n",
    "    half_cols = cols // 2\n",
    "    \n",
    "    upper_left = matrix[:half_rows, :half_cols]\n",
    "    upper_right = matrix[:half_rows, half_cols:]\n",
    "    lower_left = matrix[half_rows:, :half_cols]\n",
    "    lower_right = matrix[half_rows:, half_cols:]\n",
    "\n",
    "    transpose_u_left =np.transpose(upper_left)\n",
    "    transpose_u_right =np.transpose(upper_right)\n",
    "    transpose_l_left =np.transpose(lower_left)\n",
    "    transpose_l_right =np.transpose(lower_right)\n",
    "\n",
    "    vector_u_left= transpose_u_left.reshape(-1)\n",
    "    vector_u_right= transpose_u_right.reshape(-1)\n",
    "    vector_l_left= transpose_l_left.reshape(-1)\n",
    "    vector_l_right= transpose_l_right.reshape(-1)\n",
    "\n",
    "    return np.vstack((vector_u_left, vector_l_left,vector_u_right,vector_l_right))\n",
    "\n",
    "def singular_values_norm(matrix):\n",
    "    singular_values = np.linalg.svd(matrix, compute_uv=False)\n",
    "    return np.sum(singular_values)\n",
    "\n",
    "matrix = np.array([[11, 12, 13, 14],\n",
    "                    [21, 22, 23, 24],\n",
    "                    [31, 32, 33, 34],\n",
    "                    [41, 42, 43, 44]])\n",
    "\n",
    "realigned_matrix=realign_density_matrix(matrix)\n",
    "display(realigned_matrix)\n",
    "\n"
   ]
  },
  {
   "cell_type": "code",
   "execution_count": 144,
   "id": "5114ac51-8938-49e0-b7ac-1c97083a8ac0",
   "metadata": {
    "tags": []
   },
   "outputs": [
    {
     "data": {
      "text/plain": [
       "True"
      ]
     },
     "execution_count": 144,
     "metadata": {},
     "output_type": "execute_result"
    }
   ],
   "source": [
    "#criteriul matrix realignment pentru cazul general\n",
    "\n",
    "def realignment_is_separable(matrix):\n",
    "    \n",
    "    if isinstance(matrix,DensityMatrix):\n",
    "        matrix=matrix.data.reshape(matrix.dim,matrix.dim)\n",
    "    \n",
    "    rows, cols = matrix.shape\n",
    "    separable_state=False\n",
    "    n=2\n",
    "    while n < rows:\n",
    "        block_size = rows // n\n",
    "        \n",
    "        row_block_number = rows // block_size\n",
    "        block_number = (block_size)**2\n",
    "        \n",
    "        realigned_matrix = np.empty((0, block_number))\n",
    "        \n",
    "        for i in range(row_block_number):\n",
    "            for j in range(row_block_number):\n",
    "                #inversam i si j pentru a parcurge blocurile pe verticala\n",
    "                block_matrix=matrix[j*block_size:(j+1)*block_size,i*block_size:(i+1)*block_size]\n",
    "                block_transposed=np.transpose(block_matrix)\n",
    "                vector_block=block_transposed.reshape(-1)\n",
    "                realigned_matrix=np.vstack((realigned_matrix,vector_block))\n",
    "        \n",
    "        singular_values = np.linalg.svd(realigned_matrix, compute_uv=False)\n",
    "        separable_state = separable_state or (np.sum(singular_values)<=1)\n",
    "        n*=2\n",
    "    return separable_state\n",
    "\n",
    "matrix1 = np.array([[1/4, 0, 0, 1/4],\n",
    "                    [0, 0, 0, 0],\n",
    "                    [0, 0, 0, 0],\n",
    "                    [1/4, 0, 0, 1/4]])\n",
    "matrix2= np.array([[1, 0, 0, 1],\n",
    "                    [0, 0, 0, 0],\n",
    "                    [0, 0, 0, 0],\n",
    "                    [1, 0, 0, 1]])\n",
    "matrix = np.kron(matrix1,matrix2)\n",
    "realignment_is_separable(matrix)"
   ]
  },
  {
   "cell_type": "code",
   "execution_count": 145,
   "id": "e5c214df-7178-476b-9b27-9a8ca39fda3e",
   "metadata": {
    "tags": []
   },
   "outputs": [
    {
     "name": "stdout",
     "output_type": "stream",
     "text": [
      "True\n"
     ]
    }
   ],
   "source": [
    "#Criteriul Reducerii pentru matrici de densitate\n",
    "\n",
    "\n",
    "#folosim proces asemanator cu PPT\n",
    "def reduction_is_separable(matrix):\n",
    "    separable_state=False\n",
    "    num_qubits = int(np.log2(matrix.dim))\n",
    "    for qubit_test in range(1,num_qubits):\n",
    "\n",
    "\n",
    "        #trebuie sa verificam otate trace-urile partiale\n",
    "        for range_test in combinations(range(num_qubits), qubit_test):\n",
    "            trace_matrix=partial_trace(matrix, list(range_test))\n",
    "            #matricea I de dimensiune complementara trace-ului partial\n",
    "            trace_len=int(np.log2(trace_matrix.dim))\n",
    "            \n",
    "            I=np.eye(2**(num_qubits-trace_len))\n",
    "            #se face cast pe matrice numpy\n",
    "            np_trace = trace_matrix.data.reshape(trace_matrix.dim,trace_matrix.dim)\n",
    "            np_matrix = matrix.data.reshape(matrix.dim,matrix.dim)\n",
    "            #\n",
    "            test_reduction=np.subtract(np.kron(np_trace,I),np_matrix)\n",
    "            \n",
    "            \n",
    "            eigenvalues = np.linalg.eigvals(test_reduction)\n",
    "            #toleranta\n",
    "            tolerance=1e-15\n",
    "            eigenvalues[np.abs(eigenvalues) < tolerance] = 0\n",
    "            separable_state=separable_state or all(eigenvalues >= 0)\n",
    "    return separable_state\n",
    "\n",
    "psi2x2_nent=[0.5,0.5,0,0]\n",
    "psi2x2_ent=[0.5,0,0,0.5]\n",
    "psi4x4_nent=[0,0,0,0,0.5,0,0,0.5]\n",
    "psi4x4_ent=[0. , 0.57735027, 0.57735027, 0. , 0. ,0. , 0. , 0.57735027]\n",
    "psi=[0.5, 0. , 0. , 0. , 0.5, 0. , 0. , 0. , 0. , 0. , 0.5, 0. , 0. ,0. , 0. , 0.5]\n",
    "rho = DensityMatrix(psi4x4_nent)\n",
    "\n",
    "print(reduction_is_separable(rho))\n",
    "\n"
   ]
  },
  {
   "cell_type": "code",
   "execution_count": 96,
   "id": "5a4da796-8992-4c4e-9df9-543d147081ec",
   "metadata": {
    "tags": []
   },
   "outputs": [
    {
     "name": "stdout",
     "output_type": "stream",
     "text": [
      "Separabilitate cu criteriul PPT:\n",
      "0\n",
      "Separabilitate cu criteriul Reducerii:\n",
      "0\n",
      "Separabilitate cu criteriul Realignmentului:\n",
      "0\n"
     ]
    }
   ],
   "source": [
    "#generator stari Werner de 2 qubiti, exemplu din lucrare\n",
    "\n",
    "def generate_werner_example():\n",
    "    #separabile\n",
    "    #p=random.uniform(0.5, 1.0)\n",
    "    #entanglement\n",
    "    p=random.uniform(0, 0.5)\n",
    "    \n",
    "    matrix_werner=np.zeros((4, 4))\n",
    "    matrix_werner[0,0]=p/3\n",
    "    matrix_werner[3,3]=p/3\n",
    "    matrix_werner[1,1]=(3-2*p)/6\n",
    "    matrix_werner[2,2]=(3-2*p)/6\n",
    "    matrix_werner[1,2]=(-3+4*p)/6\n",
    "    matrix_werner[2,1]=(-3+4*p)/6\n",
    "    return DensityMatrix(matrix_werner)\n",
    "    \n",
    "red_counter_wern=0\n",
    "ppt_counter_wern=0\n",
    "rel_counter_wern=0\n",
    "#stari separabile izomorfe dupa ppt\n",
    "for _ in range(0,500):\n",
    "    wern=generate_werner_example()\n",
    "    if (reduction_is_separable(wern)):\n",
    "        red_counter_wern+=1\n",
    "    if (realignment_is_separable(wern)):\n",
    "        rel_counter_wern+=1   \n",
    "    if (ppt_is_separable(wern)):\n",
    "        ppt_counter_wern+=1  \n",
    "\n",
    "print(\"Separabilitate cu criteriul PPT:\")\n",
    "print(ppt_counter_wern)\n",
    "print(\"Separabilitate cu criteriul Reducerii:\")\n",
    "print(red_counter_wern)\n",
    "print(\"Separabilitate cu criteriul Realignmentului:\")\n",
    "print(rel_counter_wern)\n"
   ]
  },
  {
   "cell_type": "code",
   "execution_count": 146,
   "id": "8fda5930-ce80-4e09-bf45-81fa284536dc",
   "metadata": {
    "tags": []
   },
   "outputs": [],
   "source": [
    "#metoda de generare a tuturor vectorilor pentru dim qubiti\n",
    "def generate_kets(dim):\n",
    "    zero_state = np.array([1, 0])\n",
    "    one_state = np.array([0, 1])\n",
    "    ket_list = []\n",
    "    state_comb_01=list(itertools.product([0, 1], repeat=dim))\n",
    "    for vector in range(len(state_comb_01)):\n",
    "        new_ket=[1]\n",
    "        for qbit in state_comb_01[vector]:\n",
    "            if qbit == 0:\n",
    "                new_ket=np.kron(new_ket,zero_state)\n",
    "            else:\n",
    "                new_ket=np.kron(new_ket,one_state)\n",
    "        ket_list.append(new_ket)\n",
    "    return ket_list\n",
    "\n"
   ]
  },
  {
   "cell_type": "code",
   "execution_count": 147,
   "id": "0fc96c27-fc93-4083-8a7f-ec7ccac42d21",
   "metadata": {
    "tags": []
   },
   "outputs": [
    {
     "data": {
      "text/plain": [
       "array([[1., 0., 0., 0., 0., 0., 0., 0.],\n",
       "       [0., 1., 0., 0., 0., 0., 0., 0.],\n",
       "       [0., 0., 1., 0., 0., 0., 0., 0.],\n",
       "       [0., 0., 0., 1., 0., 0., 0., 0.],\n",
       "       [0., 0., 0., 0., 1., 0., 0., 0.],\n",
       "       [0., 0., 0., 0., 0., 1., 0., 0.],\n",
       "       [0., 0., 0., 0., 0., 0., 1., 0.],\n",
       "       [0., 0., 0., 0., 0., 0., 0., 1.]])"
      ]
     },
     "metadata": {},
     "output_type": "display_data"
    }
   ],
   "source": [
    "#o generare a identitatii demonstrativa pentru dim qubiti, demonstrativ pentru implementarea lui flip-state\n",
    "def generate_identity(dim):\n",
    "    zero_state = np.array([1, 0])\n",
    "    one_state = np.array([0, 1])\n",
    "    ketsA=[zero_state,one_state]\n",
    "    ketsB=generate_kets(dim-1)\n",
    "    I=np.zeros(2**dim)\n",
    "    for i in range(len(ketsA)):\n",
    "        for j in range(len(ketsB)):\n",
    "            x=np.kron(ketsA[i],ketsB[j])\n",
    "            y=np.kron(ketsA[i],ketsB[j])\n",
    "            state_part=np.outer(x,y)\n",
    "            I=np.add(I,state_part)\n",
    "    return I\n",
    "display(generate_identity(3))"
   ]
  },
  {
   "cell_type": "code",
   "execution_count": 148,
   "id": "165f6054-5d66-4546-bc96-90ef9940d9bd",
   "metadata": {
    "tags": []
   },
   "outputs": [
    {
     "data": {
      "text/plain": [
       "array([[1., 0., 0., 0.],\n",
       "       [0., 0., 1., 0.],\n",
       "       [0., 1., 0., 0.],\n",
       "       [0., 0., 0., 1.]])"
      ]
     },
     "metadata": {},
     "output_type": "display_data"
    }
   ],
   "source": [
    "\n",
    "#Flip State prima implementare |ij><ji| unde i{|0>,|1>} j{|00>,|01>,|10>,|11>} pentru 3 qubiti\n",
    "def flip_state(dim):\n",
    "    zero_state = np.array([1, 0])\n",
    "    one_state = np.array([0, 1])\n",
    "    ketsA=[zero_state,one_state]\n",
    "    ketsB=[]\n",
    "    state_comb_01=list(itertools.product([0, 1], repeat=dim-1))\n",
    "    for vector in range(len(state_comb_01)):\n",
    "        new_ket=[1]\n",
    "        for qbit in state_comb_01[vector]:\n",
    "            if qbit == 0:\n",
    "                new_ket=np.kron(new_ket,zero_state)\n",
    "            else:\n",
    "                new_ket=np.kron(new_ket,one_state)\n",
    "        ketsB.append(new_ket)\n",
    "    flip_state=np.zeros(2**dim)\n",
    "    for i in range(len(ketsA)):\n",
    "        for j in range(len(ketsB)):\n",
    "            x=np.kron(ketsA[i],ketsB[j])\n",
    "            y=np.kron(ketsB[j],ketsA[i])\n",
    "            state_part=np.outer(x,y)\n",
    "            flip_state=np.add(flip_state,state_part)\n",
    "    return flip_state\n",
    "\n",
    "#flip state a doua implementare |ij><ji| i{|0>,|1>},{00,01,10,11} j|00>,|01>,|10>,|11>}{|0>,|1>} pentru 3 qubiti\n",
    "def generate_flip_state(dim):\n",
    "    flip_state=np.zeros(2**dim)\n",
    "    for difference in range(1,dim):\n",
    "        ketsA=generate_kets(dim-difference)\n",
    "        ketsB=generate_kets(difference)\n",
    "        for i in range(len(ketsA)):\n",
    "            for j in range(len(ketsB)):\n",
    "                x=np.kron(ketsA[i],ketsB[j])\n",
    "                y=np.kron(ketsB[j],ketsA[i])\n",
    "                state_part=np.outer(x,y)\n",
    "                flip_state=np.add(flip_state,state_part)\n",
    "    #flip_state[flip_state>1]=1 #nesigur daca acest pas trebuie realizat\n",
    "    return flip_state\n",
    "\n",
    "display(generate_flip_state(2))\n"
   ]
  },
  {
   "cell_type": "code",
   "execution_count": 149,
   "id": "8546533d-d76d-4036-9bbb-92f9c504dfe1",
   "metadata": {
    "tags": []
   },
   "outputs": [
    {
     "name": "stdout",
     "output_type": "stream",
     "text": [
      "Separabilitate cu criteriul PPT:\n",
      "0\n",
      "Separabilitate cu criteriul Reducerii:\n",
      "0\n",
      "Separabilitate cu criteriul Realignmentului:\n",
      "0\n"
     ]
    }
   ],
   "source": [
    "\n",
    "\n",
    "#generator de stari Werner dupa formula din lucrare\n",
    "def generate_werner_general(dim):\n",
    "    #p for entangled [0,0.5)\n",
    "    p=random.uniform(0, 0.5)\n",
    "    flip=generate_flip_state(dim)\n",
    "    I=np.eye(2**dim)\n",
    "    P_sym=(I+flip)/2\n",
    "    P_as=(I-flip)/2\n",
    "    werner_state=p*(2/(dim**2+dim))*P_sym+(1-p)*(2/(dim**2-dim))*P_as\n",
    "    return DensityMatrix(werner_state)\n",
    "\n",
    "red_counter_wern=0\n",
    "ppt_counter_wern=0\n",
    "rel_counter_wern=0\n",
    "#stari separabile izomorfe dupa ppt\n",
    "for _ in range(0,100):\n",
    "    wern=generate_werner_general(2)\n",
    "    if (reduction_is_separable(wern)):\n",
    "        red_counter_wern+=1\n",
    "    if (realignment_is_separable(wern)):\n",
    "        rel_counter_wern+=1   \n",
    "    if (ppt_is_separable(wern)):\n",
    "        ppt_counter_wern+=1   \n",
    "print(\"Separabilitate cu criteriul PPT:\")\n",
    "print(ppt_counter_wern)\n",
    "print(\"Separabilitate cu criteriul Reducerii:\")\n",
    "print(red_counter_wern)\n",
    "print(\"Separabilitate cu criteriul Realignmentului:\")\n",
    "print(rel_counter_wern)"
   ]
  },
  {
   "cell_type": "code",
   "execution_count": 150,
   "id": "5cbb9a92-8c32-45d2-a29d-366a337e09a9",
   "metadata": {
    "tags": []
   },
   "outputs": [
    {
     "name": "stdout",
     "output_type": "stream",
     "text": [
      "DensityMatrix([[0.70710678+0.j, 0.        +0.j, 0.        +0.j,\n",
      "                0.70710678+0.j],\n",
      "               [0.        +0.j, 0.        +0.j, 0.        +0.j,\n",
      "                0.        +0.j],\n",
      "               [0.        +0.j, 0.        +0.j, 0.        +0.j,\n",
      "                0.        +0.j],\n",
      "               [0.70710678+0.j, 0.        +0.j, 0.        +0.j,\n",
      "                0.70710678+0.j]],\n",
      "              dims=(2, 2))\n"
     ]
    }
   ],
   "source": [
    "#generator stari pure maximale\n",
    "\n",
    "def generate_maximal_state(dim):\n",
    "    maximal_state=np.zeros(2**dim)\n",
    "    for difference in range(1,dim):\n",
    "        ketsA=generate_kets(dim-difference)\n",
    "        ketsB=generate_kets(difference)\n",
    "\n",
    "        \n",
    "        \n",
    "        for i in range(len(ketsA)):           \n",
    "            for j in range(len(ketsB)):\n",
    "                x=np.kron(ketsA[i],ketsA[i])\n",
    "                y=np.kron(ketsB[j],ketsB[j])\n",
    "                y=y.reshape(-1,1)\n",
    "                state_part=np.outer(x,y)\n",
    "                maximal_state=np.add(maximal_state,state_part)\n",
    "    return DensityMatrix(maximal_state/math.sqrt(dim))\n",
    "display(generate_maximal_state(2))\n",
    "\n"
   ]
  },
  {
   "cell_type": "code",
   "execution_count": 151,
   "id": "0e1f9f54-d9ed-44bb-b447-57b26eab7d47",
   "metadata": {
    "tags": []
   },
   "outputs": [
    {
     "name": "stdout",
     "output_type": "stream",
     "text": [
      "Separabilitate cu criteriul PPT:\n",
      "0\n",
      "Separabilitate cu criteriul Reducerii:\n",
      "0\n",
      "Separabilitate cu criteriul Realignmentului:\n",
      "0\n"
     ]
    }
   ],
   "source": [
    "#generator stari izomorfe\n",
    "\n",
    "def generate_isotropic_state(dim):\n",
    "    \n",
    "    rho=generate_maximal_state(dim)\n",
    "\n",
    "    #entangled\n",
    "    x=random.uniform(1 / (dim + 1), 1)\n",
    "    \n",
    "    I=np.eye(2**dim)\n",
    "    isotropic_state=np.add(((1-x)/(dim**2))*I, x*rho)\n",
    "    \n",
    "    return DensityMatrix(isotropic_state)\n",
    "\n",
    "#display(iso)\n",
    "\n",
    "red_counter_iso=0\n",
    "ppt_counter_iso=0\n",
    "rel_counter_iso=0\n",
    "#stari separabile izomorfe dupa ppt, pentru cazul 4x4\n",
    "for _ in range(0,100):\n",
    "    iso=generate_isotropic_state(2)\n",
    "    if (reduction_is_separable(iso)):\n",
    "        red_counter_iso+=1\n",
    "    if (realignment_is_separable(iso)):\n",
    "        rel_counter_iso+=1   \n",
    "    if (ppt_is_separable(iso)):\n",
    "        ppt_counter_iso+=1  \n",
    "        \n",
    "print(\"Separabilitate cu criteriul PPT:\")\n",
    "print(ppt_counter_iso)\n",
    "print(\"Separabilitate cu criteriul Reducerii:\")\n",
    "print(red_counter_iso)\n",
    "print(\"Separabilitate cu criteriul Realignmentului:\")\n",
    "print(rel_counter_iso)\n"
   ]
  },
  {
   "cell_type": "code",
   "execution_count": 152,
   "id": "9bcf26bf-9c70-4cb8-8038-cbbfe2c916e3",
   "metadata": {
    "tags": []
   },
   "outputs": [
    {
     "name": "stdout",
     "output_type": "stream",
     "text": [
      "Reduction spune ca GHZ e entanglement\n",
      "Realignment spune ca GHZ e entanglement\n",
      "PPT spune ca GHZ e entanglement\n"
     ]
    }
   ],
   "source": [
    "#generare stare GHZ prin circuit si cu functie de noise\n",
    "\n",
    "#declarare numar de qubiti pe care se face GHZ\n",
    "n_qubits=4\n",
    "\n",
    "qreg_q = QuantumRegister(n_qubits, 'q')\n",
    "circuit=QuantumCircuit(qreg_q)\n",
    "\n",
    "circuit.h(qreg_q[0])\n",
    "for qubit in range(n_qubits - 1):\n",
    "    circuit.cx(qubit, qubit + 1)\n",
    "\n",
    "circuit.save_statevector()\n",
    "\n",
    "simulator_normal = Aer.get_backend('aer_simulator_statevector')\n",
    "result = simulator.run(transpile(circuit, simulator)).result()\n",
    "psi = result.get_statevector(circuit)\n",
    "rho = DensityMatrix(psi)\n",
    "\n",
    "if not(reduction_is_separable(rho)):\n",
    "    print(\"Reduction spune ca GHZ e entanglement\")  \n",
    "if not(realignment_is_separable(rho)):\n",
    "    print(\"Realignment spune ca GHZ e entanglement\")  \n",
    "if not(ppt_is_separable(rho)):\n",
    "    print(\"PPT spune ca GHZ e entanglement\")  "
   ]
  },
  {
   "cell_type": "code",
   "execution_count": 43,
   "id": "bb5d11a6-f168-435a-9b3f-9c5f5917fa15",
   "metadata": {
    "tags": []
   },
   "outputs": [
    {
     "data": {
      "text/plain": [
       "'\\nAlgoritmi\\n'"
      ]
     },
     "execution_count": 43,
     "metadata": {},
     "output_type": "execute_result"
    }
   ],
   "source": [
    "'''\n",
    "Algoritmi\n",
    "'''"
   ]
  },
  {
   "cell_type": "code",
   "execution_count": 153,
   "id": "2d0e881d-7b7b-4ca3-9e87-cb093ede0367",
   "metadata": {
    "tags": []
   },
   "outputs": [
    {
     "name": "stdout",
     "output_type": "stream",
     "text": [
      "s-a detectat o eroare pe qubitul 2 de verificare\n"
     ]
    }
   ],
   "source": [
    "#Corectare erori bit flip\n",
    "\n",
    "qreg_q = QuantumRegister(5, 'q')\n",
    "creg_c = ClassicalRegister(3, 'c')\n",
    "circuit = QuantumCircuit(qreg_q, creg_c)\n",
    "\n",
    "#pentru circuit cu verificare ancilla sau fara\n",
    "with_ancilla=True\n",
    "\n",
    "def ancilla():\n",
    "    #setare a qubitilor Ancilla\n",
    "    circuit.cx(qreg_q[0], qreg_q[3])\n",
    "    circuit.cx(qreg_q[1], qreg_q[3])\n",
    "    circuit.cx(qreg_q[1], qreg_q[4])\n",
    "    circuit.cx(qreg_q[2], qreg_q[4])\n",
    "    circuit.barrier(qreg_q[3])\n",
    "    #masurare a qubitilor Ancilla\n",
    "    #|0> - nu s-a produs o eroare\n",
    "    #|1> - s-a produs o eroare\n",
    "    circuit.measure(qreg_q[4], creg_c[0])\n",
    "    circuit.measure(qreg_q[3], creg_c[1])\n",
    "    return circuit\n",
    "\n",
    "#starea qubitului initial e setata pe\n",
    "circuit.h(qreg_q[0])\n",
    "\n",
    "#qubiti de verificare in starea |0>\n",
    "circuit.reset(range(1,5))\n",
    "#pregatire\n",
    "circuit.cx(qreg_q[0], qreg_q[1])\n",
    "circuit.cx(qreg_q[0], qreg_q[2])\n",
    "\n",
    "#eroare pe qubitul ales, modificati pentru a verifica\n",
    "circuit.x(qreg_q[2])\n",
    "\n",
    "if(with_ancilla):\n",
    "    circuit.compose(ancilla())\n",
    "#verificare si corectare\n",
    "circuit.cx(qreg_q[0], qreg_q[1])\n",
    "circuit.cx(qreg_q[0], qreg_q[2])\n",
    "circuit.ccx(qreg_q[2], qreg_q[1], qreg_q[0])\n",
    "\n",
    "if(with_ancilla==False):\n",
    "    circuit.measure(qreg_q[0], creg_c[0])\n",
    "    circuit.measure(qreg_q[1], creg_c[1])\n",
    "    circuit.measure(qreg_q[2], creg_c[2])\n",
    "    \n",
    "simulator = Aer.get_backend('qasm_simulator')\n",
    "job = execute(circuit, simulator, shots=1)\n",
    "result = job.result()\n",
    "counts = result.get_counts(circuit)\n",
    "\n",
    "if(with_ancilla):\n",
    "    if '000' in counts:\n",
    "        print(\"nu s-au detectat erori\")\n",
    "    elif '010' in counts:\n",
    "        print(\"s-a detectat o eroare pe qubitul principal\")\n",
    "    elif '001' in counts:\n",
    "        print(\"s-a detectat o eroare pe qubitul 2 de verificare\")\n",
    "    elif '011' in counts:\n",
    "        print(\"s-a detectat o eroare pe qubitul 1 de verificare\")\n",
    "else:\n",
    "    print(counts)"
   ]
  },
  {
   "cell_type": "code",
   "execution_count": 154,
   "id": "8cb511dd-3c55-4edd-a4f7-b0b35784d347",
   "metadata": {
    "tags": []
   },
   "outputs": [
    {
     "data": {
      "image/png": "[encoded data removed]",
      "text/plain": [
       "<Figure size 700x500 with 1 Axes>"
      ]
     },
     "execution_count": 154,
     "metadata": {},
     "output_type": "execute_result"
    }
   ],
   "source": [
    "#Grover\n",
    "\n",
    "qreg_q = QuantumRegister(3, 'q')\n",
    "creg_c = ClassicalRegister(3, 'c')\n",
    "circuit = QuantumCircuit(qreg_q, creg_c)\n",
    "\n",
    "#alege un numar de cautat\n",
    "search_number = 5\n",
    "\n",
    "\n",
    "def parameter_search_oracle(x):\n",
    "    #verificare binara a numerelor\n",
    "    if ((x & 0b1) == 0): \n",
    "        circuit.x(qreg_q[0])\n",
    "    if ((x & 0b10) == 0):\n",
    "        circuit.x(qreg_q[1])\n",
    "    if ((x & 0b100) == 0):\n",
    "        circuit.x(qreg_q[2])\n",
    "    circuit.h(qreg_q[2])\n",
    "    circuit.ccx(qreg_q[0], qreg_q[1], qreg_q[2])\n",
    "    circuit.h(qreg_q[2])\n",
    "    circuit.barrier(qreg_q[0])\n",
    "    circuit.barrier(qreg_q[1])\n",
    "    #alegere a oracolului pe baza de masti\n",
    "    if ((x & 0b1) == 0):\n",
    "        circuit.x(qreg_q[0])\n",
    "    if ((x & 0b10) == 0):\n",
    "        circuit.x(qreg_q[1])\n",
    "    if ((x & 0b100) == 0):\n",
    "        circuit.x(qreg_q[2])\n",
    "    \n",
    "    return circuit\n",
    "\n",
    "circuit.h(range(3))\n",
    "\n",
    "#amplificator\n",
    "circuit.compose(parameter_search_oracle(search_number))\n",
    "circuit.h(range(3))\n",
    "circuit.x(range(3))\n",
    "circuit.h(qreg_q[2])\n",
    "circuit.ccx(qreg_q[0], qreg_q[1], qreg_q[2])\n",
    "circuit.h(qreg_q[2])\n",
    "circuit.barrier(range(2))\n",
    "circuit.x(range(3))\n",
    "circuit.h(range(3))\n",
    "\n",
    "circuit.measure(qreg_q[0], creg_c[0])\n",
    "circuit.measure(qreg_q[1], creg_c[1])\n",
    "circuit.measure(qreg_q[2], creg_c[2])\n",
    "\n",
    "CircuitComposer(circuit=circuit)\n",
    "\n",
    "\n",
    "simulator = Aer.get_backend('qasm_simulator')\n",
    "job = execute(circuit, simulator, shots=100)\n",
    "result = job.result()\n",
    "counts = result.get_counts(circuit)\n",
    "plot_histogram(counts)\n"
   ]
  },
  {
   "cell_type": "code",
   "execution_count": null,
   "id": "c8b9ce8b-0483-4af9-a428-91ddb08c3d08",
   "metadata": {},
   "outputs": [],
   "source": [
    "#Bomb Tester, nu a fost introdus si discutat teoretic in lucrare\n",
    "\n",
    "qreg_q = QuantumRegister(2, 'q')\n",
    "creg_c = ClassicalRegister(2, 'c')\n",
    "circuit = QuantumCircuit(qreg_q, creg_c)\n",
    "\n",
    "circuit.rx(pi / 3, qreg_q[0])\n",
    "circuit.cx(qreg_q[0], qreg_q[1])\n",
    "### Secventa care se repeta\n",
    "circuit.measure(qreg_q[1], creg_c[1]) #\n",
    "circuit.reset(qreg_q[1]) #\n",
    "circuit.rx(pi / 3, qreg_q[0])\n",
    "circuit.cx(qreg_q[0], qreg_q[1])\n",
    "###\n",
    "circuit.measure(qreg_q[1], creg_c[1])\n",
    "circuit.rx(pi / 3, qreg_q[0])\n",
    "circuit.reset(qreg_q[1])\n",
    "circuit.cx(qreg_q[0], qreg_q[1])\n",
    "circuit.measure(qreg_q[1], creg_c[1])\n",
    "circuit.rx(pi / 3, qreg_q[0])\n",
    "circuit.reset(qreg_q[1])\n",
    "circuit.cx(qreg_q[0], qreg_q[1])\n",
    "circuit.measure(qreg_q[1], creg_c[1])\n",
    "circuit.rx(pi / 3, qreg_q[0])\n",
    "circuit.reset(qreg_q[1])\n",
    "circuit.cx(qreg_q[0], qreg_q[1])\n",
    "circuit.rx(pi / 3, qreg_q[0])\n",
    "circuit.measure(qreg_q[1], creg_c[1])\n",
    "circuit.measure(qreg_q[0], creg_c[0])\n",
    "\n",
    "simulator = Aer.get_backend('qasm_simulator')\n",
    "job = execute(circuit, simulator, shots=50)\n",
    "result = job.result()\n",
    "counts = result.get_counts(circuit)\n",
    "plot_histogram(counts)"
   ]
  }
 ],
 "metadata": {
  "kernelspec": {
   "display_name": "Python 3 (ipykernel)",
   "language": "python",
   "name": "python3"
  },
  "language_info": {
   "codemirror_mode": {
    "name": "ipython",
    "version": 3
   },
   "file_extension": ".py",
   "mimetype": "text/x-python",
   "name": "python",
   "nbconvert_exporter": "python",
   "pygments_lexer": "ipython3",
   "version": "3.10.8"
  },
  "widgets": {
   "application/vnd.jupyter.widget-state+json": {
    "state": {
     "004b1bf22a8b446bb54c2f1a2a148bc5": {
      "model_module": "@quantum/lab-widgets",
      "model_module_version": "4.0.37",
      "model_name": "CircuitComposerModel",
      "state": {
       "circuit": "\"OPENQASM 2.0;\\ninclude \\\"qelib1.inc\\\";\\nqreg q[4];\\ncreg meas[4];\\nh q[0];\\ncx q[0],q[1];\\ncx q[1],q[2];\\ncx q[2],q[3];\\nbarrier q[0],q[1],q[2],q[3];\\nmeasure q[0] -> meas[0];\\nmeasure q[1] -> meas[1];\\nmeasure q[2] -> meas[2];\\nmeasure q[3] -> meas[3];\\n\"",
       "editable": true,
       "layout": "IPY_MODEL_1c7e23b1c3b847afb80abdd62009079d",
       "qiskit_code_cell_index": -1
      }
     },
     "01db5ba41cac40b1b26fd8668e086ea2": {
      "model_module": "@jupyter-widgets/controls",
      "model_module_version": "2.0.0",
      "model_name": "ButtonStyleModel",
      "state": {
       "font_family": null,
       "font_size": null,
       "font_style": null,
       "font_variant": null,
       "font_weight": null,
       "text_color": null,
       "text_decoration": null
      }
     },
     "0a084791f98d410a8872ac2b8e1bc430": {
      "model_module": "@jupyter-widgets/base",
      "model_module_version": "2.0.0",
      "model_name": "LayoutModel",
      "state": {
       "width": "95px"
      }
     },
     "106bc21bf8ce4d5c92213e365a3046b0": {
      "model_module": "@jupyter-widgets/base",
      "model_module_version": "2.0.0",
      "model_name": "LayoutModel",
      "state": {
       "width": "190px"
      }
     },
     "190fad1a12c1477f8f83198c6540ba69": {
      "model_module": "@jupyter-widgets/controls",
      "model_module_version": "2.0.0",
      "model_name": "HTMLModel",
      "state": {
       "layout": "IPY_MODEL_c419ba61cf00431fb819d2800ec1b541",
       "style": "IPY_MODEL_758de8b50c1d407c824d38e3f7764030",
       "value": "<h5>Backend</h5>"
      }
     },
     "1c7e23b1c3b847afb80abdd62009079d": {
      "model_module": "@jupyter-widgets/base",
      "model_module_version": "2.0.0",
      "model_name": "LayoutModel",
      "state": {}
     },
     "307c9cfbef404e8a8890668a6481b5dc": {
      "model_module": "@jupyter-widgets/controls",
      "model_module_version": "2.0.0",
      "model_name": "HTMLStyleModel",
      "state": {
       "description_width": "",
       "font_size": null,
       "text_color": null
      }
     },
     "30d98524f0b5487cb7f65a587bdbb57b": {
      "model_module": "@jupyter-widgets/base",
      "model_module_version": "2.0.0",
      "model_name": "LayoutModel",
      "state": {
       "grid_area": "right",
       "padding": "0px 0px 0px 0px",
       "width": "70px"
      }
     },
     "3934b54d44f3461e81ad3ff97ae117d6": {
      "model_module": "@jupyter-widgets/base",
      "model_module_version": "2.0.0",
      "model_name": "LayoutModel",
      "state": {}
     },
     "3a1e04a8a126497586594516f9dc0fc3": {
      "model_module": "@quantum/lab-widgets",
      "model_module_version": "4.0.37",
      "model_name": "CircuitComposerModel",
      "state": {
       "circuit": "\"OPENQASM 2.0;\\ninclude \\\"qelib1.inc\\\";\\nqreg q[3];\\nh q[0];\\ncx q[0],q[1];\\ncx q[1],q[2];\\n\"",
       "editable": true,
       "layout": "IPY_MODEL_fbf3e8ebfc484270afa78917c4d8b3de",
       "qiskit_code_cell_index": -1
      }
     },
     "3bdb28f2af3e449792b631a61989155e": {
      "model_module": "@jupyter-widgets/base",
      "model_module_version": "2.0.0",
      "model_name": "LayoutModel",
      "state": {
       "margin": "0px 0px 0px 37px",
       "width": "600px"
      }
     },
     "57bbc98191074a5e9418f6735d471e72": {
      "model_module": "@jupyter-widgets/controls",
      "model_module_version": "2.0.0",
      "model_name": "HTMLStyleModel",
      "state": {
       "description_width": "",
       "font_size": null,
       "text_color": null
      }
     },
     "5c1ad1de54624c44b23e46bda2d1f407": {
      "model_module": "@jupyter-widgets/base",
      "model_module_version": "2.0.0",
      "model_name": "LayoutModel",
      "state": {
       "margin": "0px 0px 10px 0px"
      }
     },
     "6c6c358168aa49128ada58768fcbb377": {
      "model_module": "@quantum/lab-widgets",
      "model_module_version": "4.0.37",
      "model_name": "CircuitComposerModel",
      "state": {
       "circuit": "\"OPENQASM 2.0;\\ninclude \\\"qelib1.inc\\\";\\nqreg q[4];\\ncreg c[4];\\nh q[0];\\ncx q[0],q[1];\\n\"",
       "editable": true,
       "layout": "IPY_MODEL_85405aa232d841468320e5151e72b8b4",
       "qiskit_code_cell_index": -1
      }
     },
     "739a6a4d576742afa0cbfac28572029f": {
      "model_module": "@jupyter-widgets/controls",
      "model_module_version": "2.0.0",
      "model_name": "GridBoxModel",
      "state": {
       "children": [
        "IPY_MODEL_9db3a4de1dbf48e3a5e89caf03a0ab42"
       ],
       "layout": "IPY_MODEL_c2a6792e9cbe4372a57d1bddb55981a7"
      }
     },
     "758de8b50c1d407c824d38e3f7764030": {
      "model_module": "@jupyter-widgets/controls",
      "model_module_version": "2.0.0",
      "model_name": "HTMLStyleModel",
      "state": {
       "description_width": "",
       "font_size": null,
       "text_color": null
      }
     },
     "85405aa232d841468320e5151e72b8b4": {
      "model_module": "@jupyter-widgets/base",
      "model_module_version": "2.0.0",
      "model_name": "LayoutModel",
      "state": {}
     },
     "8d96020af3724f6396fc0b41465f25d3": {
      "model_module": "@jupyter-widgets/controls",
      "model_module_version": "2.0.0",
      "model_name": "HTMLModel",
      "state": {
       "layout": "IPY_MODEL_3934b54d44f3461e81ad3ff97ae117d6",
       "style": "IPY_MODEL_bc5415ed7cf341d89f0d72276d499cd2",
       "value": "<h5>Message</h5>"
      }
     },
     "9da07f6667b24b91b136a2f6c03fd8f3": {
      "model_module": "@jupyter-widgets/controls",
      "model_module_version": "2.0.0",
      "model_name": "HTMLStyleModel",
      "state": {
       "description_width": "",
       "font_size": null,
       "text_color": null
      }
     },
     "9db3a4de1dbf48e3a5e89caf03a0ab42": {
      "model_module": "@jupyter-widgets/controls",
      "model_module_version": "2.0.0",
      "model_name": "ButtonModel",
      "state": {
       "button_style": "primary",
       "description": "Clear",
       "layout": "IPY_MODEL_30d98524f0b5487cb7f65a587bdbb57b",
       "style": "IPY_MODEL_01db5ba41cac40b1b26fd8668e086ea2",
       "tooltip": null
      }
     },
     "a495d723b1034e1086d1057c0126609b": {
      "model_module": "@jupyter-widgets/base",
      "model_module_version": "2.0.0",
      "model_name": "LayoutModel",
      "state": {}
     },
     "b100a6b19c964db9851c77302d48785e": {
      "model_module": "@jupyter-widgets/base",
      "model_module_version": "2.0.0",
      "model_name": "LayoutModel",
      "state": {}
     },
     "baa426888a594adb9bc9c8e54d155e0d": {
      "model_module": "@quantum/lab-widgets",
      "model_module_version": "4.0.37",
      "model_name": "CircuitComposerModel",
      "state": {
       "circuit": "\"OPENQASM 2.0;\\ninclude \\\"qelib1.inc\\\";\\nqreg q[4];\\nh q[0];\\ncx q[0],q[1];\\ncx q[1],q[2];\\ncx q[2],q[3];\\n\"",
       "editable": true,
       "layout": "IPY_MODEL_a495d723b1034e1086d1057c0126609b",
       "qiskit_code_cell_index": -1
      }
     },
     "bc5415ed7cf341d89f0d72276d499cd2": {
      "model_module": "@jupyter-widgets/controls",
      "model_module_version": "2.0.0",
      "model_name": "HTMLStyleModel",
      "state": {
       "description_width": "",
       "font_size": null,
       "text_color": null
      }
     },
     "bebf44397855411abbe09f72a2712034": {
      "model_module": "@jupyter-widgets/controls",
      "model_module_version": "2.0.0",
      "model_name": "HTMLStyleModel",
      "state": {
       "description_width": "",
       "font_size": null,
       "text_color": null
      }
     },
     "c2a6792e9cbe4372a57d1bddb55981a7": {
      "model_module": "@jupyter-widgets/base",
      "model_module_version": "2.0.0",
      "model_name": "LayoutModel",
      "state": {
       "grid_template_areas": "\n                                       \". . . . right \"\n                                        ",
       "grid_template_columns": "20% 20% 20% 20% 20%",
       "width": "100%"
      }
     },
     "c419ba61cf00431fb819d2800ec1b541": {
      "model_module": "@jupyter-widgets/base",
      "model_module_version": "2.0.0",
      "model_name": "LayoutModel",
      "state": {
       "width": "145px"
      }
     },
     "d3c92818c1e64c34966d11faf6bf9f96": {
      "model_module": "@jupyter-widgets/base",
      "model_module_version": "2.0.0",
      "model_name": "LayoutModel",
      "state": {
       "width": "70px"
      }
     },
     "d485a1871c814278a352f21937c4e88b": {
      "model_module": "@jupyter-widgets/controls",
      "model_module_version": "2.0.0",
      "model_name": "HTMLModel",
      "state": {
       "layout": "IPY_MODEL_106bc21bf8ce4d5c92213e365a3046b0",
       "style": "IPY_MODEL_57bbc98191074a5e9418f6735d471e72",
       "value": "<h5>Job ID</h5>"
      }
     },
     "d51c7f88952b45539658149b56918aad": {
      "model_module": "@jupyter-widgets/controls",
      "model_module_version": "2.0.0",
      "model_name": "HBoxModel",
      "state": {
       "children": [
        "IPY_MODEL_d485a1871c814278a352f21937c4e88b",
        "IPY_MODEL_190fad1a12c1477f8f83198c6540ba69",
        "IPY_MODEL_f445f900e54d48f2bba0dde42ae11280",
        "IPY_MODEL_e5ee6c434dd843bcb407dd10441a36d5",
        "IPY_MODEL_8d96020af3724f6396fc0b41465f25d3"
       ],
       "layout": "IPY_MODEL_3bdb28f2af3e449792b631a61989155e"
      }
     },
     "d541a47fec0c4150ac65a6a447729817": {
      "model_module": "@quantum/lab-widgets",
      "model_module_version": "4.0.37",
      "model_name": "CircuitComposerModel",
      "state": {
       "circuit": "\"OPENQASM 2.0;\\ninclude \\\"qelib1.inc\\\";\\nqreg q[3];\\ncreg c[3];\\nh q[0];\\nh q[1];\\nh q[2];\\nx q[1];\\nh q[2];\\nccx q[0],q[1],q[2];\\nh q[2];\\nbarrier q[0];\\nbarrier q[1];\\nx q[1];\\nh q[0];\\nh q[1];\\nh q[2];\\nx q[0];\\nx q[1];\\nx q[2];\\nh q[2];\\nccx q[0],q[1],q[2];\\nh q[2];\\nbarrier q[0],q[1];\\nx q[0];\\nx q[1];\\nx q[2];\\nh q[0];\\nh q[1];\\nh q[2];\\nmeasure q[0] -> c[0];\\nmeasure q[1] -> c[1];\\nmeasure q[2] -> c[2];\\n\"",
       "editable": true,
       "layout": "IPY_MODEL_b100a6b19c964db9851c77302d48785e",
       "qiskit_code_cell_index": -1
      }
     },
     "e5ee6c434dd843bcb407dd10441a36d5": {
      "model_module": "@jupyter-widgets/controls",
      "model_module_version": "2.0.0",
      "model_name": "HTMLModel",
      "state": {
       "layout": "IPY_MODEL_d3c92818c1e64c34966d11faf6bf9f96",
       "style": "IPY_MODEL_9da07f6667b24b91b136a2f6c03fd8f3",
       "value": "<h5>Queue</h5>"
      }
     },
     "f002c502ed224860b49c312a27baa93a": {
      "model_module": "@jupyter-widgets/controls",
      "model_module_version": "2.0.0",
      "model_name": "HTMLModel",
      "state": {
       "layout": "IPY_MODEL_5c1ad1de54624c44b23e46bda2d1f407",
       "style": "IPY_MODEL_bebf44397855411abbe09f72a2712034",
       "value": "<p style='font-family: IBM Plex Sans, Arial, Helvetica, sans-serif; font-size: 20px; font-weight: medium;'>Circuit Properties</p>"
      }
     },
     "f445f900e54d48f2bba0dde42ae11280": {
      "model_module": "@jupyter-widgets/controls",
      "model_module_version": "2.0.0",
      "model_name": "HTMLModel",
      "state": {
       "layout": "IPY_MODEL_0a084791f98d410a8872ac2b8e1bc430",
       "style": "IPY_MODEL_307c9cfbef404e8a8890668a6481b5dc",
       "value": "<h5>Status</h5>"
      }
     },
     "fbf3e8ebfc484270afa78917c4d8b3de": {
      "model_module": "@jupyter-widgets/base",
      "model_module_version": "2.0.0",
      "model_name": "LayoutModel",
      "state": {}
     }
    },
    "version_major": 2,
    "version_minor": 0
   }
  }
 },
 "nbformat": 4,
 "nbformat_minor": 5
}
